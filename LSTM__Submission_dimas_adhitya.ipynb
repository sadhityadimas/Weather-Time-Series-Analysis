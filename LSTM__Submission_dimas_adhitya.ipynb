{
 "cells": [
  {
   "cell_type": "markdown",
   "metadata": {
    "id": "pcMvVl5QPUSJ"
   },
   "source": [
    "# Dicoding Time series with LSTM Submission"
   ]
  },
  {
   "cell_type": "markdown",
   "metadata": {
    "id": "zVlO524rPRmX"
   },
   "source": [
    "## New York City Taxi Trip - Hourly Weather Data\n",
    "## source : Kaggle\n",
    "## link to dataset : https://www.kaggle.com/meinertsen/new-york-city-taxi-trip-hourly-weather-data\n",
    "\n",
    "### 10.400 samples"
   ]
  },
  {
   "cell_type": "code",
   "execution_count": 1,
   "metadata": {
    "id": "5d7i9NsRjISo"
   },
   "outputs": [],
   "source": [
    "import tensorflow as tf\n",
    "from tensorflow import keras\n",
    "from tensorflow.keras import layers\n",
    "import pandas as pd\n",
    "import matplotlib.pyplot as plt\n",
    "import numpy as np\n",
    "from sklearn.model_selection import train_test_split"
   ]
  },
  {
   "cell_type": "code",
   "execution_count": 2,
   "metadata": {
    "id": "X20LfpVVjTMB"
   },
   "outputs": [],
   "source": [
    "#function to transform numpy type to batch (from dicoding )\n",
    "def windowed_dataset(series, window_size, batch_size, shuffle_buffer):\n",
    "    series = tf.expand_dims(series, axis=-1)\n",
    "    ds = tf.data.Dataset.from_tensor_slices(series)\n",
    "    ds = ds.window(window_size + 1, shift=1, drop_remainder=True)\n",
    "    ds = ds.flat_map(lambda w: w.batch(window_size + 1))\n",
    "    ds = ds.shuffle(shuffle_buffer)\n",
    "    ds = ds.map(lambda w: (w[:-1], w[1:]))\n",
    "    return ds.batch(batch_size).prefetch(1)"
   ]
  },
  {
   "cell_type": "code",
   "execution_count": 3,
   "metadata": {
    "colab": {
     "base_uri": "https://localhost:8080/",
     "height": 309
    },
    "id": "m1g_jdbbjTID",
    "outputId": "8822ea32-e391-4e58-d252-8f04e62d3ef1"
   },
   "outputs": [
    {
     "data": {
      "text/html": [
       "<div>\n",
       "<style scoped>\n",
       "    .dataframe tbody tr th:only-of-type {\n",
       "        vertical-align: middle;\n",
       "    }\n",
       "\n",
       "    .dataframe tbody tr th {\n",
       "        vertical-align: top;\n",
       "    }\n",
       "\n",
       "    .dataframe thead th {\n",
       "        text-align: right;\n",
       "    }\n",
       "</style>\n",
       "<table border=\"1\" class=\"dataframe\">\n",
       "  <thead>\n",
       "    <tr style=\"text-align: right;\">\n",
       "      <th></th>\n",
       "      <th>pickup_datetime</th>\n",
       "      <th>tempm</th>\n",
       "      <th>tempi</th>\n",
       "      <th>dewptm</th>\n",
       "      <th>dewpti</th>\n",
       "      <th>hum</th>\n",
       "      <th>wspdm</th>\n",
       "      <th>wspdi</th>\n",
       "      <th>wgustm</th>\n",
       "      <th>wgusti</th>\n",
       "      <th>wdird</th>\n",
       "      <th>wdire</th>\n",
       "      <th>vism</th>\n",
       "      <th>visi</th>\n",
       "      <th>pressurem</th>\n",
       "      <th>pressurei</th>\n",
       "      <th>windchillm</th>\n",
       "      <th>windchilli</th>\n",
       "      <th>heatindexm</th>\n",
       "      <th>heatindexi</th>\n",
       "      <th>precipm</th>\n",
       "      <th>precipi</th>\n",
       "      <th>conds</th>\n",
       "      <th>icon</th>\n",
       "      <th>fog</th>\n",
       "      <th>rain</th>\n",
       "      <th>snow</th>\n",
       "      <th>hail</th>\n",
       "      <th>thunder</th>\n",
       "      <th>tornado</th>\n",
       "    </tr>\n",
       "  </thead>\n",
       "  <tbody>\n",
       "    <tr>\n",
       "      <th>0</th>\n",
       "      <td>2015-12-31 00:15:00</td>\n",
       "      <td>7.8</td>\n",
       "      <td>46.0</td>\n",
       "      <td>6.1</td>\n",
       "      <td>43.0</td>\n",
       "      <td>89.0</td>\n",
       "      <td>7.4</td>\n",
       "      <td>4.6</td>\n",
       "      <td>NaN</td>\n",
       "      <td>NaN</td>\n",
       "      <td>40</td>\n",
       "      <td>NE</td>\n",
       "      <td>4.0</td>\n",
       "      <td>2.5</td>\n",
       "      <td>1018.2</td>\n",
       "      <td>30.07</td>\n",
       "      <td>6.6</td>\n",
       "      <td>43.9</td>\n",
       "      <td>NaN</td>\n",
       "      <td>NaN</td>\n",
       "      <td>0.5</td>\n",
       "      <td>0.02</td>\n",
       "      <td>Light Rain</td>\n",
       "      <td>rain</td>\n",
       "      <td>0</td>\n",
       "      <td>1</td>\n",
       "      <td>0</td>\n",
       "      <td>0</td>\n",
       "      <td>0</td>\n",
       "      <td>0</td>\n",
       "    </tr>\n",
       "    <tr>\n",
       "      <th>1</th>\n",
       "      <td>2015-12-31 00:42:00</td>\n",
       "      <td>7.8</td>\n",
       "      <td>46.0</td>\n",
       "      <td>6.1</td>\n",
       "      <td>43.0</td>\n",
       "      <td>89.0</td>\n",
       "      <td>7.4</td>\n",
       "      <td>4.6</td>\n",
       "      <td>NaN</td>\n",
       "      <td>NaN</td>\n",
       "      <td>0</td>\n",
       "      <td>Variable</td>\n",
       "      <td>6.4</td>\n",
       "      <td>4.0</td>\n",
       "      <td>1017.8</td>\n",
       "      <td>30.06</td>\n",
       "      <td>6.6</td>\n",
       "      <td>43.9</td>\n",
       "      <td>NaN</td>\n",
       "      <td>NaN</td>\n",
       "      <td>0.8</td>\n",
       "      <td>0.03</td>\n",
       "      <td>Overcast</td>\n",
       "      <td>cloudy</td>\n",
       "      <td>0</td>\n",
       "      <td>0</td>\n",
       "      <td>0</td>\n",
       "      <td>0</td>\n",
       "      <td>0</td>\n",
       "      <td>0</td>\n",
       "    </tr>\n",
       "    <tr>\n",
       "      <th>2</th>\n",
       "      <td>2015-12-31 00:51:00</td>\n",
       "      <td>7.8</td>\n",
       "      <td>46.0</td>\n",
       "      <td>6.1</td>\n",
       "      <td>43.0</td>\n",
       "      <td>89.0</td>\n",
       "      <td>5.6</td>\n",
       "      <td>3.5</td>\n",
       "      <td>NaN</td>\n",
       "      <td>NaN</td>\n",
       "      <td>20</td>\n",
       "      <td>NNE</td>\n",
       "      <td>8.0</td>\n",
       "      <td>5.0</td>\n",
       "      <td>1017.0</td>\n",
       "      <td>30.04</td>\n",
       "      <td>7.1</td>\n",
       "      <td>44.8</td>\n",
       "      <td>NaN</td>\n",
       "      <td>NaN</td>\n",
       "      <td>0.8</td>\n",
       "      <td>0.03</td>\n",
       "      <td>Overcast</td>\n",
       "      <td>cloudy</td>\n",
       "      <td>0</td>\n",
       "      <td>0</td>\n",
       "      <td>0</td>\n",
       "      <td>0</td>\n",
       "      <td>0</td>\n",
       "      <td>0</td>\n",
       "    </tr>\n",
       "    <tr>\n",
       "      <th>3</th>\n",
       "      <td>2015-12-31 01:51:00</td>\n",
       "      <td>7.2</td>\n",
       "      <td>45.0</td>\n",
       "      <td>5.6</td>\n",
       "      <td>42.1</td>\n",
       "      <td>90.0</td>\n",
       "      <td>7.4</td>\n",
       "      <td>4.6</td>\n",
       "      <td>NaN</td>\n",
       "      <td>NaN</td>\n",
       "      <td>0</td>\n",
       "      <td>Variable</td>\n",
       "      <td>12.9</td>\n",
       "      <td>8.0</td>\n",
       "      <td>1016.5</td>\n",
       "      <td>30.02</td>\n",
       "      <td>5.9</td>\n",
       "      <td>42.6</td>\n",
       "      <td>NaN</td>\n",
       "      <td>NaN</td>\n",
       "      <td>0.3</td>\n",
       "      <td>0.01</td>\n",
       "      <td>Overcast</td>\n",
       "      <td>cloudy</td>\n",
       "      <td>0</td>\n",
       "      <td>0</td>\n",
       "      <td>0</td>\n",
       "      <td>0</td>\n",
       "      <td>0</td>\n",
       "      <td>0</td>\n",
       "    </tr>\n",
       "    <tr>\n",
       "      <th>4</th>\n",
       "      <td>2015-12-31 02:51:00</td>\n",
       "      <td>7.2</td>\n",
       "      <td>45.0</td>\n",
       "      <td>5.6</td>\n",
       "      <td>42.1</td>\n",
       "      <td>90.0</td>\n",
       "      <td>0.0</td>\n",
       "      <td>0.0</td>\n",
       "      <td>NaN</td>\n",
       "      <td>NaN</td>\n",
       "      <td>0</td>\n",
       "      <td>North</td>\n",
       "      <td>12.9</td>\n",
       "      <td>8.0</td>\n",
       "      <td>1016.7</td>\n",
       "      <td>30.03</td>\n",
       "      <td>NaN</td>\n",
       "      <td>NaN</td>\n",
       "      <td>NaN</td>\n",
       "      <td>NaN</td>\n",
       "      <td>NaN</td>\n",
       "      <td>NaN</td>\n",
       "      <td>Overcast</td>\n",
       "      <td>cloudy</td>\n",
       "      <td>0</td>\n",
       "      <td>0</td>\n",
       "      <td>0</td>\n",
       "      <td>0</td>\n",
       "      <td>0</td>\n",
       "      <td>0</td>\n",
       "    </tr>\n",
       "  </tbody>\n",
       "</table>\n",
       "</div>"
      ],
      "text/plain": [
       "       pickup_datetime  tempm  tempi  dewptm  ...  snow  hail  thunder  tornado\n",
       "0  2015-12-31 00:15:00    7.8   46.0     6.1  ...     0     0        0        0\n",
       "1  2015-12-31 00:42:00    7.8   46.0     6.1  ...     0     0        0        0\n",
       "2  2015-12-31 00:51:00    7.8   46.0     6.1  ...     0     0        0        0\n",
       "3  2015-12-31 01:51:00    7.2   45.0     5.6  ...     0     0        0        0\n",
       "4  2015-12-31 02:51:00    7.2   45.0     5.6  ...     0     0        0        0\n",
       "\n",
       "[5 rows x 30 columns]"
      ]
     },
     "execution_count": 3,
     "metadata": {
      "tags": []
     },
     "output_type": "execute_result"
    }
   ],
   "source": [
    "#New York City Taxi Trip - Hourly Weather Data\n",
    "weather = pd.read_csv('/content/Weather.csv') \n",
    "weather.head()"
   ]
  },
  {
   "cell_type": "code",
   "execution_count": 4,
   "metadata": {
    "colab": {
     "base_uri": "https://localhost:8080/",
     "height": 204
    },
    "id": "ZsTpXQCZ-Lpm",
    "outputId": "55472000-3ffd-42bd-ca60-ca2879122785"
   },
   "outputs": [
    {
     "data": {
      "text/html": [
       "<div>\n",
       "<style scoped>\n",
       "    .dataframe tbody tr th:only-of-type {\n",
       "        vertical-align: middle;\n",
       "    }\n",
       "\n",
       "    .dataframe tbody tr th {\n",
       "        vertical-align: top;\n",
       "    }\n",
       "\n",
       "    .dataframe thead th {\n",
       "        text-align: right;\n",
       "    }\n",
       "</style>\n",
       "<table border=\"1\" class=\"dataframe\">\n",
       "  <thead>\n",
       "    <tr style=\"text-align: right;\">\n",
       "      <th></th>\n",
       "      <th>pickup_datetime</th>\n",
       "      <th>tempm</th>\n",
       "    </tr>\n",
       "  </thead>\n",
       "  <tbody>\n",
       "    <tr>\n",
       "      <th>0</th>\n",
       "      <td>2015-12-31 00:15:00</td>\n",
       "      <td>7.8</td>\n",
       "    </tr>\n",
       "    <tr>\n",
       "      <th>1</th>\n",
       "      <td>2015-12-31 00:42:00</td>\n",
       "      <td>7.8</td>\n",
       "    </tr>\n",
       "    <tr>\n",
       "      <th>2</th>\n",
       "      <td>2015-12-31 00:51:00</td>\n",
       "      <td>7.8</td>\n",
       "    </tr>\n",
       "    <tr>\n",
       "      <th>3</th>\n",
       "      <td>2015-12-31 01:51:00</td>\n",
       "      <td>7.2</td>\n",
       "    </tr>\n",
       "    <tr>\n",
       "      <th>4</th>\n",
       "      <td>2015-12-31 02:51:00</td>\n",
       "      <td>7.2</td>\n",
       "    </tr>\n",
       "  </tbody>\n",
       "</table>\n",
       "</div>"
      ],
      "text/plain": [
       "       pickup_datetime  tempm\n",
       "0  2015-12-31 00:15:00    7.8\n",
       "1  2015-12-31 00:42:00    7.8\n",
       "2  2015-12-31 00:51:00    7.8\n",
       "3  2015-12-31 01:51:00    7.2\n",
       "4  2015-12-31 02:51:00    7.2"
      ]
     },
     "execution_count": 4,
     "metadata": {
      "tags": []
     },
     "output_type": "execute_result"
    }
   ],
   "source": [
    "#pick 2 columns to be used\n",
    "#tempm and datetime\n",
    "weather = weather[['pickup_datetime', 'tempm']]\n",
    "weather.head()"
   ]
  },
  {
   "cell_type": "code",
   "execution_count": 5,
   "metadata": {
    "colab": {
     "base_uri": "https://localhost:8080/"
    },
    "id": "BZGlMDCZ-eCN",
    "outputId": "7ca85e46-7f22-4582-cd08-a4bacc1641f5"
   },
   "outputs": [
    {
     "data": {
      "text/plain": [
       "pickup_datetime    0\n",
       "tempm              0\n",
       "dtype: int64"
      ]
     },
     "execution_count": 5,
     "metadata": {
      "tags": []
     },
     "output_type": "execute_result"
    }
   ],
   "source": [
    "weather.dropna(subset=['tempm'], inplace=True) #drop any NAN\n",
    "weather.isnull().sum() #check"
   ]
  },
  {
   "cell_type": "code",
   "execution_count": 6,
   "metadata": {
    "colab": {
     "base_uri": "https://localhost:8080/"
    },
    "id": "sPKImmYy-yCX",
    "outputId": "0e4a6b89-b0c7-41e7-d617-8db9ae9d9126"
   },
   "outputs": [
    {
     "data": {
      "text/plain": [
       "(10476, 2)"
      ]
     },
     "execution_count": 6,
     "metadata": {
      "tags": []
     },
     "output_type": "execute_result"
    }
   ],
   "source": [
    "weather.shape #check data shape"
   ]
  },
  {
   "cell_type": "code",
   "execution_count": 7,
   "metadata": {
    "colab": {
     "base_uri": "https://localhost:8080/"
    },
    "id": "ryixvLCi_SKR",
    "outputId": "01143028-300c-4943-8318-89498edf5bea"
   },
   "outputs": [
    {
     "data": {
      "text/plain": [
       "pickup_datetime    datetime64[ns]\n",
       "tempm                     float64\n",
       "dtype: object"
      ]
     },
     "execution_count": 7,
     "metadata": {
      "tags": []
     },
     "output_type": "execute_result"
    }
   ],
   "source": [
    "weather['pickup_datetime'] = pd.to_datetime(weather['pickup_datetime']) #set datetime dtypes \n",
    "weather.dtypes"
   ]
  },
  {
   "cell_type": "code",
   "execution_count": 8,
   "metadata": {
    "id": "lOKJNy-VSvvU"
   },
   "outputs": [],
   "source": [
    "weather = weather.set_index(['pickup_datetime']) #set datetime as index"
   ]
  },
  {
   "cell_type": "code",
   "execution_count": 9,
   "metadata": {
    "colab": {
     "base_uri": "https://localhost:8080/",
     "height": 474
    },
    "id": "K_CBtcgFKfOp",
    "outputId": "f5f8e16f-e318-4691-f07b-bbb4050215ed"
   },
   "outputs": [
    {
     "data": {
      "image/png": "[encoded data removed]",
      "text/plain": [
       "<Figure size 864x576 with 1 Axes>"
      ]
     },
     "metadata": {
      "needs_background": "light",
      "tags": []
     },
     "output_type": "display_data"
    }
   ],
   "source": [
    "plt.figure(figsize=(12, 8))\n",
    "weather['tempm'].plot.line()\n",
    "plt.show()"
   ]
  },
  {
   "cell_type": "code",
   "execution_count": 10,
   "metadata": {
    "colab": {
     "base_uri": "https://localhost:8080/"
    },
    "id": "q6FOAkb0jTDq",
    "outputId": "1bde8b92-e063-47dd-9beb-c8389680c47c"
   },
   "outputs": [
    {
     "data": {
      "text/plain": [
       "5.390000000000001"
      ]
     },
     "execution_count": 10,
     "metadata": {
      "tags": []
     },
     "output_type": "execute_result"
    }
   ],
   "source": [
    "#set target MAE\n",
    "target_MAE = (weather['tempm'].max() - weather['tempm'].min()) * (10/100)\n",
    "target_MAE"
   ]
  },
  {
   "cell_type": "code",
   "execution_count": 11,
   "metadata": {
    "id": "HyTIIQDEnmKi"
   },
   "outputs": [],
   "source": [
    "#pick the train set\n",
    "train = weather[['tempm']] #temperature"
   ]
  },
  {
   "cell_type": "code",
   "execution_count": 12,
   "metadata": {
    "id": "0Q9Om7q8jS_e"
   },
   "outputs": [],
   "source": [
    "#train validation split\n",
    "#shuffle false because timeseries data is sensitive to shuffling\n",
    "X_train, X_valid = train_test_split(train, test_size=0.2, shuffle=False, random_state=42)"
   ]
  },
  {
   "cell_type": "code",
   "execution_count": 13,
   "metadata": {
    "id": "revOz_4cjS8l"
   },
   "outputs": [],
   "source": [
    "#transform data from numpy type to batch\n",
    "train_set = windowed_dataset(X_train, 64, 256, 1000)\n",
    "val_set = windowed_dataset(X_valid, 64, 256, 1000)"
   ]
  },
  {
   "cell_type": "code",
   "execution_count": 14,
   "metadata": {
    "id": "o0QqE7lVjS53"
   },
   "outputs": [],
   "source": [
    "model = keras.Sequential([\n",
    "  layers.Conv1D(filters=32, kernel_size=5,\n",
    "                      strides=1, padding=\"causal\",\n",
    "                      activation=\"relu\",\n",
    "                      input_shape=[None, 1]),\n",
    "  layers.LSTM(64, return_sequences=True),\n",
    "  layers.LSTM(64, return_sequences=True),\n",
    "  layers.Dense(30, activation=\"relu\"),\n",
    "  layers.Dense(10, activation=\"relu\"),\n",
    "  layers.Dense(1),\n",
    "  layers.Lambda(lambda x: x * 400)\n",
    "])\n"
   ]
  },
  {
   "cell_type": "code",
   "execution_count": 15,
   "metadata": {
    "id": "tNO03TabjStv"
   },
   "outputs": [],
   "source": [
    "#i actually dont understand learning rate, because dicoding havent explain it yet\n",
    "#but dicoding requires it so i use their learning rate model\n",
    "lr_schedule = tf.keras.callbacks.LearningRateScheduler(\n",
    "    lambda epoch: 1e-8 * 10**(epoch / 20))\n",
    "optimizer = tf.keras.optimizers.SGD(learning_rate=1e-8, momentum=0.9) \n",
    "model.compile(loss=tf.keras.losses.Huber(),\n",
    "              optimizer=optimizer,\n",
    "              metrics=[\"mae\"])\n"
   ]
  },
  {
   "cell_type": "code",
   "execution_count": 16,
   "metadata": {
    "id": "RmxYugQvBPRa"
   },
   "outputs": [],
   "source": [
    "# callback\n",
    "class myCallback(tf.keras.callbacks.Callback):\n",
    "  def on_epoch_end(self, epoch, logs={}):\n",
    "    if(logs.get('val_mae')< target_MAE):\n",
    "      self.model.stop_training = True\n",
    "      print(\"\\nMAE of the model < 10% of data scale\")\n",
    "early_stop = myCallback()"
   ]
  },
  {
   "cell_type": "code",
   "execution_count": 17,
   "metadata": {
    "colab": {
     "base_uri": "https://localhost:8080/"
    },
    "id": "HN2HYxrrjSjo",
    "outputId": "63dcb249-afd3-4a47-d9cb-a63f83ccde5f"
   },
   "outputs": [
    {
     "name": "stdout",
     "output_type": "stream",
     "text": [
      "Epoch 1/500\n",
      "33/33 [==============================] - 17s 401ms/step - loss: 37.9572 - mae: 38.4567 - val_loss: 33.4379 - val_mae: 33.9373\n",
      "Epoch 2/500\n",
      "33/33 [==============================] - 13s 375ms/step - loss: 34.7464 - mae: 35.2457 - val_loss: 30.6305 - val_mae: 31.1297\n",
      "Epoch 3/500\n",
      "33/33 [==============================] - 12s 372ms/step - loss: 31.4785 - mae: 31.9778 - val_loss: 27.9315 - val_mae: 28.4304\n",
      "Epoch 4/500\n",
      "33/33 [==============================] - 12s 372ms/step - loss: 28.3842 - mae: 28.8832 - val_loss: 25.3386 - val_mae: 25.8367\n",
      "Epoch 5/500\n",
      "33/33 [==============================] - 13s 374ms/step - loss: 25.4117 - mae: 25.9104 - val_loss: 22.8312 - val_mae: 23.3289\n",
      "Epoch 6/500\n",
      "33/33 [==============================] - 12s 369ms/step - loss: 22.5295 - mae: 23.0280 - val_loss: 20.4000 - val_mae: 20.8971\n",
      "Epoch 7/500\n",
      "33/33 [==============================] - 13s 376ms/step - loss: 19.7309 - mae: 20.2286 - val_loss: 18.1094 - val_mae: 18.6027\n",
      "Epoch 8/500\n",
      "33/33 [==============================] - 12s 364ms/step - loss: 17.1169 - mae: 17.6110 - val_loss: 16.2113 - val_mae: 16.6977\n",
      "Epoch 9/500\n",
      "33/33 [==============================] - 12s 364ms/step - loss: 14.9370 - mae: 15.4279 - val_loss: 14.9263 - val_mae: 15.4122\n",
      "Epoch 10/500\n",
      "33/33 [==============================] - 12s 369ms/step - loss: 13.2556 - mae: 13.7470 - val_loss: 14.1018 - val_mae: 14.5899\n",
      "Epoch 11/500\n",
      "33/33 [==============================] - 13s 375ms/step - loss: 11.9334 - mae: 12.4241 - val_loss: 13.5286 - val_mae: 14.0175\n",
      "Epoch 12/500\n",
      "33/33 [==============================] - 13s 378ms/step - loss: 10.8825 - mae: 11.3727 - val_loss: 13.1108 - val_mae: 13.6011\n",
      "Epoch 13/500\n",
      "33/33 [==============================] - 13s 377ms/step - loss: 10.0722 - mae: 10.5610 - val_loss: 12.8029 - val_mae: 13.2937\n",
      "Epoch 14/500\n",
      "33/33 [==============================] - 13s 380ms/step - loss: 9.4840 - mae: 9.9722 - val_loss: 12.5791 - val_mae: 13.0697\n",
      "Epoch 15/500\n",
      "33/33 [==============================] - 13s 376ms/step - loss: 9.0758 - mae: 9.5625 - val_loss: 12.4062 - val_mae: 12.8968\n",
      "Epoch 16/500\n",
      "33/33 [==============================] - 13s 375ms/step - loss: 8.8040 - mae: 9.2906 - val_loss: 12.2605 - val_mae: 12.7516\n",
      "Epoch 17/500\n",
      "33/33 [==============================] - 13s 376ms/step - loss: 8.6151 - mae: 9.1015 - val_loss: 12.1261 - val_mae: 12.6174\n",
      "Epoch 18/500\n",
      "33/33 [==============================] - 12s 367ms/step - loss: 8.4729 - mae: 8.9586 - val_loss: 11.9921 - val_mae: 12.4834\n",
      "Epoch 19/500\n",
      "33/33 [==============================] - 12s 371ms/step - loss: 8.3536 - mae: 8.8390 - val_loss: 11.8523 - val_mae: 12.3432\n",
      "Epoch 20/500\n",
      "33/33 [==============================] - 13s 375ms/step - loss: 8.2436 - mae: 8.7287 - val_loss: 11.7034 - val_mae: 12.1942\n",
      "Epoch 21/500\n",
      "33/33 [==============================] - 12s 370ms/step - loss: 8.1374 - mae: 8.6222 - val_loss: 11.5458 - val_mae: 12.0363\n",
      "Epoch 22/500\n",
      "33/33 [==============================] - 12s 372ms/step - loss: 8.0282 - mae: 8.5129 - val_loss: 11.3765 - val_mae: 11.8668\n",
      "Epoch 23/500\n",
      "33/33 [==============================] - 12s 373ms/step - loss: 7.9120 - mae: 8.3966 - val_loss: 11.1945 - val_mae: 11.6848\n",
      "Epoch 24/500\n",
      "33/33 [==============================] - 13s 375ms/step - loss: 7.7837 - mae: 8.2680 - val_loss: 10.9953 - val_mae: 11.4854\n",
      "Epoch 25/500\n",
      "33/33 [==============================] - 12s 373ms/step - loss: 7.6317 - mae: 8.1155 - val_loss: 10.7744 - val_mae: 11.2643\n",
      "Epoch 26/500\n",
      "33/33 [==============================] - 12s 364ms/step - loss: 7.4464 - mae: 7.9297 - val_loss: 10.5300 - val_mae: 11.0197\n",
      "Epoch 27/500\n",
      "33/33 [==============================] - 12s 370ms/step - loss: 7.2351 - mae: 7.7170 - val_loss: 10.2772 - val_mae: 10.7662\n",
      "Epoch 28/500\n",
      "33/33 [==============================] - 13s 387ms/step - loss: 7.0345 - mae: 7.5149 - val_loss: 10.0451 - val_mae: 10.5334\n",
      "Epoch 29/500\n",
      "33/33 [==============================] - 13s 396ms/step - loss: 6.8633 - mae: 7.3426 - val_loss: 9.8382 - val_mae: 10.3258\n",
      "Epoch 30/500\n",
      "33/33 [==============================] - 13s 388ms/step - loss: 6.7155 - mae: 7.1941 - val_loss: 9.6526 - val_mae: 10.1398\n",
      "Epoch 31/500\n",
      "33/33 [==============================] - 13s 383ms/step - loss: 6.5821 - mae: 7.0603 - val_loss: 9.4791 - val_mae: 9.9658\n",
      "Epoch 32/500\n",
      "33/33 [==============================] - 13s 383ms/step - loss: 6.4578 - mae: 6.9354 - val_loss: 9.3148 - val_mae: 9.8005\n",
      "Epoch 33/500\n",
      "33/33 [==============================] - 13s 383ms/step - loss: 6.3398 - mae: 6.8169 - val_loss: 9.1551 - val_mae: 9.6401\n",
      "Epoch 34/500\n",
      "33/33 [==============================] - 13s 387ms/step - loss: 6.2277 - mae: 6.7044 - val_loss: 9.0005 - val_mae: 9.4850\n",
      "Epoch 35/500\n",
      "33/33 [==============================] - 13s 379ms/step - loss: 6.1203 - mae: 6.5963 - val_loss: 8.8498 - val_mae: 9.3337\n",
      "Epoch 36/500\n",
      "33/33 [==============================] - 13s 378ms/step - loss: 6.0167 - mae: 6.4922 - val_loss: 8.7027 - val_mae: 9.1862\n",
      "Epoch 37/500\n",
      "33/33 [==============================] - 13s 378ms/step - loss: 5.9173 - mae: 6.3921 - val_loss: 8.5596 - val_mae: 9.0424\n",
      "Epoch 38/500\n",
      "33/33 [==============================] - 13s 382ms/step - loss: 5.8210 - mae: 6.2950 - val_loss: 8.4214 - val_mae: 8.9037\n",
      "Epoch 39/500\n",
      "33/33 [==============================] - 13s 376ms/step - loss: 5.7295 - mae: 6.2028 - val_loss: 8.2864 - val_mae: 8.7682\n",
      "Epoch 40/500\n",
      "33/33 [==============================] - 12s 373ms/step - loss: 5.6408 - mae: 6.1138 - val_loss: 8.1564 - val_mae: 8.6376\n",
      "Epoch 41/500\n",
      "33/33 [==============================] - 12s 371ms/step - loss: 5.5553 - mae: 6.0278 - val_loss: 8.0282 - val_mae: 8.5089\n",
      "Epoch 42/500\n",
      "33/33 [==============================] - 12s 373ms/step - loss: 5.4728 - mae: 5.9449 - val_loss: 7.9044 - val_mae: 8.3846\n",
      "Epoch 43/500\n",
      "33/33 [==============================] - 12s 372ms/step - loss: 5.3934 - mae: 5.8650 - val_loss: 7.7859 - val_mae: 8.2657\n",
      "Epoch 44/500\n",
      "33/33 [==============================] - 12s 372ms/step - loss: 5.3179 - mae: 5.7889 - val_loss: 7.6699 - val_mae: 8.1496\n",
      "Epoch 45/500\n",
      "33/33 [==============================] - 13s 373ms/step - loss: 5.2447 - mae: 5.7153 - val_loss: 7.5583 - val_mae: 8.0375\n",
      "Epoch 46/500\n",
      "33/33 [==============================] - 13s 379ms/step - loss: 5.1755 - mae: 5.6457 - val_loss: 7.4502 - val_mae: 7.9290\n",
      "Epoch 47/500\n",
      "33/33 [==============================] - 13s 382ms/step - loss: 5.1091 - mae: 5.5789 - val_loss: 7.3456 - val_mae: 7.8238\n",
      "Epoch 48/500\n",
      "33/33 [==============================] - 13s 377ms/step - loss: 5.0452 - mae: 5.5146 - val_loss: 7.2455 - val_mae: 7.7231\n",
      "Epoch 49/500\n",
      "33/33 [==============================] - 13s 378ms/step - loss: 4.9856 - mae: 5.4546 - val_loss: 7.1481 - val_mae: 7.6255\n",
      "Epoch 50/500\n",
      "33/33 [==============================] - 13s 379ms/step - loss: 4.9279 - mae: 5.3964 - val_loss: 7.0547 - val_mae: 7.5319\n",
      "Epoch 51/500\n",
      "33/33 [==============================] - 13s 382ms/step - loss: 4.8729 - mae: 5.3409 - val_loss: 6.9652 - val_mae: 7.4420\n",
      "Epoch 52/500\n",
      "33/33 [==============================] - 13s 383ms/step - loss: 4.8216 - mae: 5.2891 - val_loss: 6.8793 - val_mae: 7.3560\n",
      "Epoch 53/500\n",
      "33/33 [==============================] - 13s 381ms/step - loss: 4.7724 - mae: 5.2396 - val_loss: 6.7971 - val_mae: 7.2736\n",
      "Epoch 54/500\n",
      "33/33 [==============================] - 13s 387ms/step - loss: 4.7254 - mae: 5.1924 - val_loss: 6.7174 - val_mae: 7.1936\n",
      "Epoch 55/500\n",
      "33/33 [==============================] - 13s 380ms/step - loss: 4.6809 - mae: 5.1476 - val_loss: 6.6418 - val_mae: 7.1175\n",
      "Epoch 56/500\n",
      "33/33 [==============================] - 13s 378ms/step - loss: 4.6385 - mae: 5.1049 - val_loss: 6.5695 - val_mae: 7.0445\n",
      "Epoch 57/500\n",
      "33/33 [==============================] - 13s 381ms/step - loss: 4.5982 - mae: 5.0645 - val_loss: 6.5000 - val_mae: 6.9743\n",
      "Epoch 58/500\n",
      "33/33 [==============================] - 13s 382ms/step - loss: 4.5599 - mae: 5.0260 - val_loss: 6.4334 - val_mae: 6.9070\n",
      "Epoch 59/500\n",
      "33/33 [==============================] - 13s 380ms/step - loss: 4.5233 - mae: 4.9892 - val_loss: 6.3702 - val_mae: 6.8430\n",
      "Epoch 60/500\n",
      "33/33 [==============================] - 13s 384ms/step - loss: 4.4884 - mae: 4.9539 - val_loss: 6.3094 - val_mae: 6.7816\n",
      "Epoch 61/500\n",
      "33/33 [==============================] - 13s 378ms/step - loss: 4.4553 - mae: 4.9206 - val_loss: 6.2517 - val_mae: 6.7232\n",
      "Epoch 62/500\n",
      "33/33 [==============================] - 13s 381ms/step - loss: 4.4232 - mae: 4.8884 - val_loss: 6.1960 - val_mae: 6.6670\n",
      "Epoch 63/500\n",
      "33/33 [==============================] - 13s 379ms/step - loss: 4.3927 - mae: 4.8576 - val_loss: 6.1425 - val_mae: 6.6131\n",
      "Epoch 64/500\n",
      "33/33 [==============================] - 13s 382ms/step - loss: 4.3635 - mae: 4.8283 - val_loss: 6.0913 - val_mae: 6.5616\n",
      "Epoch 65/500\n",
      "33/33 [==============================] - 13s 388ms/step - loss: 4.3349 - mae: 4.7995 - val_loss: 6.0422 - val_mae: 6.5122\n",
      "Epoch 66/500\n",
      "33/33 [==============================] - 13s 382ms/step - loss: 4.3079 - mae: 4.7723 - val_loss: 5.9953 - val_mae: 6.4650\n",
      "Epoch 67/500\n",
      "33/33 [==============================] - 13s 383ms/step - loss: 4.2817 - mae: 4.7460 - val_loss: 5.9506 - val_mae: 6.4202\n",
      "Epoch 68/500\n",
      "33/33 [==============================] - 13s 380ms/step - loss: 4.2566 - mae: 4.7207 - val_loss: 5.9073 - val_mae: 6.3768\n",
      "Epoch 69/500\n",
      "33/33 [==============================] - 13s 382ms/step - loss: 4.2322 - mae: 4.6961 - val_loss: 5.8654 - val_mae: 6.3347\n",
      "Epoch 70/500\n",
      "33/33 [==============================] - 13s 398ms/step - loss: 4.2088 - mae: 4.6726 - val_loss: 5.8252 - val_mae: 6.2942\n",
      "Epoch 71/500\n",
      "33/33 [==============================] - 14s 408ms/step - loss: 4.1859 - mae: 4.6495 - val_loss: 5.7863 - val_mae: 6.2550\n",
      "Epoch 72/500\n",
      "33/33 [==============================] - 14s 408ms/step - loss: 4.1639 - mae: 4.6274 - val_loss: 5.7489 - val_mae: 6.2173\n",
      "Epoch 73/500\n",
      "33/33 [==============================] - 14s 417ms/step - loss: 4.1426 - mae: 4.6058 - val_loss: 5.7123 - val_mae: 6.1805\n",
      "Epoch 74/500\n",
      "33/33 [==============================] - 14s 416ms/step - loss: 4.1215 - mae: 4.5845 - val_loss: 5.6771 - val_mae: 6.1452\n",
      "Epoch 75/500\n",
      "33/33 [==============================] - 13s 385ms/step - loss: 4.1014 - mae: 4.5642 - val_loss: 5.6431 - val_mae: 6.1111\n",
      "Epoch 76/500\n",
      "33/33 [==============================] - 13s 381ms/step - loss: 4.0817 - mae: 4.5444 - val_loss: 5.6100 - val_mae: 6.0779\n",
      "Epoch 77/500\n",
      "33/33 [==============================] - 13s 376ms/step - loss: 4.0625 - mae: 4.5250 - val_loss: 5.5776 - val_mae: 6.0454\n",
      "Epoch 78/500\n",
      "33/33 [==============================] - 13s 385ms/step - loss: 4.0437 - mae: 4.5059 - val_loss: 5.5463 - val_mae: 6.0141\n",
      "Epoch 79/500\n",
      "33/33 [==============================] - 13s 381ms/step - loss: 4.0254 - mae: 4.4873 - val_loss: 5.5156 - val_mae: 5.9833\n",
      "Epoch 80/500\n",
      "33/33 [==============================] - 12s 370ms/step - loss: 4.0073 - mae: 4.4690 - val_loss: 5.4861 - val_mae: 5.9538\n",
      "Epoch 81/500\n",
      "33/33 [==============================] - 12s 369ms/step - loss: 3.9899 - mae: 4.4514 - val_loss: 5.4570 - val_mae: 5.9245\n",
      "Epoch 82/500\n",
      "33/33 [==============================] - 13s 380ms/step - loss: 3.9727 - mae: 4.4340 - val_loss: 5.4289 - val_mae: 5.8964\n",
      "Epoch 83/500\n",
      "33/33 [==============================] - 13s 386ms/step - loss: 3.9559 - mae: 4.4170 - val_loss: 5.4012 - val_mae: 5.8686\n",
      "Epoch 84/500\n",
      "33/33 [==============================] - 13s 379ms/step - loss: 3.9395 - mae: 4.4004 - val_loss: 5.3741 - val_mae: 5.8413\n",
      "Epoch 85/500\n",
      "33/33 [==============================] - 13s 385ms/step - loss: 3.9232 - mae: 4.3838 - val_loss: 5.3477 - val_mae: 5.8146\n",
      "Epoch 86/500\n",
      "33/33 [==============================] - 13s 379ms/step - loss: 3.9074 - mae: 4.3678 - val_loss: 5.3219 - val_mae: 5.7885\n",
      "Epoch 87/500\n",
      "33/33 [==============================] - 13s 387ms/step - loss: 3.8916 - mae: 4.3518 - val_loss: 5.2966 - val_mae: 5.7629\n",
      "Epoch 88/500\n",
      "33/33 [==============================] - 13s 394ms/step - loss: 3.8764 - mae: 4.3364 - val_loss: 5.2718 - val_mae: 5.7377\n",
      "Epoch 89/500\n",
      "33/33 [==============================] - 14s 414ms/step - loss: 3.8612 - mae: 4.3210 - val_loss: 5.2472 - val_mae: 5.7128\n",
      "Epoch 90/500\n",
      "33/33 [==============================] - 15s 434ms/step - loss: 3.8461 - mae: 4.3057 - val_loss: 5.2233 - val_mae: 5.6886\n",
      "Epoch 91/500\n",
      "33/33 [==============================] - 14s 427ms/step - loss: 3.8315 - mae: 4.2908 - val_loss: 5.1999 - val_mae: 5.6648\n",
      "Epoch 92/500\n",
      "33/33 [==============================] - 14s 431ms/step - loss: 3.8170 - mae: 4.2761 - val_loss: 5.1768 - val_mae: 5.6415\n",
      "Epoch 93/500\n",
      "33/33 [==============================] - 14s 432ms/step - loss: 3.8026 - mae: 4.2616 - val_loss: 5.1542 - val_mae: 5.6187\n",
      "Epoch 94/500\n",
      "33/33 [==============================] - 15s 434ms/step - loss: 3.7885 - mae: 4.2473 - val_loss: 5.1320 - val_mae: 5.5963\n",
      "Epoch 95/500\n",
      "33/33 [==============================] - 14s 431ms/step - loss: 3.7747 - mae: 4.2333 - val_loss: 5.1102 - val_mae: 5.5743\n",
      "Epoch 96/500\n",
      "33/33 [==============================] - 15s 443ms/step - loss: 3.7610 - mae: 4.2194 - val_loss: 5.0888 - val_mae: 5.5529\n",
      "Epoch 97/500\n",
      "33/33 [==============================] - 14s 406ms/step - loss: 3.7475 - mae: 4.2058 - val_loss: 5.0677 - val_mae: 5.5317\n",
      "Epoch 98/500\n",
      "33/33 [==============================] - 13s 394ms/step - loss: 3.7343 - mae: 4.1924 - val_loss: 5.0470 - val_mae: 5.5109\n",
      "Epoch 99/500\n",
      "33/33 [==============================] - 13s 387ms/step - loss: 3.7210 - mae: 4.1789 - val_loss: 5.0266 - val_mae: 5.4904\n",
      "Epoch 100/500\n",
      "33/33 [==============================] - 13s 390ms/step - loss: 3.7081 - mae: 4.1659 - val_loss: 5.0066 - val_mae: 5.4703\n",
      "Epoch 101/500\n",
      "33/33 [==============================] - 14s 411ms/step - loss: 3.6954 - mae: 4.1530 - val_loss: 4.9868 - val_mae: 5.4503\n",
      "Epoch 102/500\n",
      "33/33 [==============================] - 17s 502ms/step - loss: 3.6828 - mae: 4.1402 - val_loss: 4.9672 - val_mae: 5.4308\n",
      "Epoch 103/500\n",
      "33/33 [==============================] - 16s 470ms/step - loss: 3.6703 - mae: 4.1277 - val_loss: 4.9480 - val_mae: 5.4115\n",
      "Epoch 104/500\n",
      "33/33 [==============================] - 13s 377ms/step - loss: 3.6580 - mae: 4.1151 - val_loss: 4.9288 - val_mae: 5.3922\n",
      "Epoch 105/500\n",
      "33/33 [==============================] - 12s 368ms/step - loss: 3.6457 - mae: 4.1027 - val_loss: 4.9102 - val_mae: 5.3735\n",
      "\n",
      "MAE of the model < 10% of data scale\n"
     ]
    }
   ],
   "source": [
    "#train the model\n",
    "tf.keras.backend.set_floatx('float64')\n",
    "history = model.fit(train_set,\n",
    "                    epochs=500, \n",
    "                    validation_data=val_set, \n",
    "                    callbacks=[early_stop])"
   ]
  },
  {
   "cell_type": "code",
   "execution_count": 18,
   "metadata": {
    "colab": {
     "base_uri": "https://localhost:8080/",
     "height": 265
    },
    "id": "r_UkeFR6BJBr",
    "outputId": "7b649420-2dbf-4f61-ad77-ce6fa2c93060"
   },
   "outputs": [
    {
     "data": {
      "image/png": "[encoded data removed]",
      "text/plain": [
       "<Figure size 432x288 with 1 Axes>"
      ]
     },
     "metadata": {
      "needs_background": "light",
      "tags": []
     },
     "output_type": "display_data"
    }
   ],
   "source": [
    "#loss\n",
    "history_df = pd.DataFrame(history.history)\n",
    "history_df.loc[1:, ['loss', 'val_loss']].plot()\n",
    "plt.show()"
   ]
  },
  {
   "cell_type": "code",
   "execution_count": 19,
   "metadata": {
    "colab": {
     "base_uri": "https://localhost:8080/",
     "height": 265
    },
    "id": "1sRkeC12LM_u",
    "outputId": "b55c5cdf-3c09-4303-d280-04ce24ae8d22"
   },
   "outputs": [
    {
     "data": {
      "image/png": "[encoded data removed]",
      "text/plain": [
       "<Figure size 432x288 with 1 Axes>"
      ]
     },
     "metadata": {
      "needs_background": "light",
      "tags": []
     },
     "output_type": "display_data"
    }
   ],
   "source": [
    "#accuracy \n",
    "history_df.loc[1:, ['mae', 'val_mae']].plot()\n",
    "plt.show()"
   ]
  },
  {
   "cell_type": "code",
   "execution_count": 20,
   "metadata": {
    "colab": {
     "base_uri": "https://localhost:8080/"
    },
    "id": "GKBHyGaHLQgU",
    "outputId": "4e89baff-7f23-446a-ebf6-9ca8c9084bcb"
   },
   "outputs": [
    {
     "name": "stdout",
     "output_type": "stream",
     "text": [
      "Best Validation Loss: 4.91\n",
      "Best Validation MAE: 5.37\n"
     ]
    }
   ],
   "source": [
    "#Best validation loss and validation mae score\n",
    "print((\"Best Validation Loss: {:0.2f}\" +\"\\nBest Validation MAE: {:0.2f}\").format(history_df['val_loss'].min(), history_df['val_mae'].min()))"
   ]
  },
  {
   "cell_type": "code",
   "execution_count": 20,
   "metadata": {
    "id": "UMHtTK0XLdOT"
   },
   "outputs": [],
   "source": []
  }
 ],
 "metadata": {
  "colab": {
   "collapsed_sections": [],
   "name": "LSTM _Submission_dimas_adhitya.ipynb",
   "provenance": []
  },
  "kernelspec": {
   "display_name": "Python 3",
   "language": "python",
   "name": "python3"
  },
  "language_info": {
   "codemirror_mode": {
    "name": "ipython",
    "version": 3
   },
   "file_extension": ".py",
   "mimetype": "text/x-python",
   "name": "python",
   "nbconvert_exporter": "python",
   "pygments_lexer": "ipython3",
   "version": "3.8.10"
  }
 },
 "nbformat": 4,
 "nbformat_minor": 1
}
